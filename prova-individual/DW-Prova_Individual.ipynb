{
 "cells": [
  {
   "cell_type": "code",
   "execution_count": 1,
   "metadata": {},
   "outputs": [],
   "source": [
    "import os, requests, zipfile, io\n",
    "import pandas as pd\n",
    "import sqlalchemy\n",
    "import sqlalchemy.types as type"
   ]
  },
  {
   "cell_type": "markdown",
   "metadata": {},
   "source": [
    "# 1. Script para Download dos dados do ENADE - 2017 a 2019"
   ]
  },
  {
   "cell_type": "code",
   "execution_count": 2,
   "metadata": {},
   "outputs": [],
   "source": [
    "# Modificando para o diretório atual\n",
    "os.chdir(os.path.abspath(''))"
   ]
  },
  {
   "cell_type": "code",
   "execution_count": 3,
   "metadata": {},
   "outputs": [],
   "source": [
    "## Importando os dados de 2017\n",
    "r = requests.get('https://download.inep.gov.br/microdados/Enade_Microdados/microdados_Enade_2017_portal_2018.10.09.zip')\n",
    "z = zipfile.ZipFile(io.BytesIO(r.content))\n",
    "z.extractall(os.path.abspath('')+'/dados/enade2017')"
   ]
  },
  {
   "cell_type": "code",
   "execution_count": 4,
   "metadata": {},
   "outputs": [],
   "source": [
    "## Importando os dados de 2018\n",
    "r = requests.get('https://download.inep.gov.br/microdados/Enade_Microdados/microdados_enade_2018.zip')\n",
    "z = zipfile.ZipFile(io.BytesIO(r.content))\n",
    "z.extractall(os.path.abspath('')+'/dados/enade2018')"
   ]
  },
  {
   "cell_type": "code",
   "execution_count": 5,
   "metadata": {},
   "outputs": [],
   "source": [
    "## Importando os dados de 2019\n",
    "r = requests.get('https://download.inep.gov.br/microdados/Enade_Microdados/microdados_enade_2019.zip')\n",
    "z = zipfile.ZipFile(io.BytesIO(r.content))\n",
    "z.extractall(os.path.abspath('')+'/dados/enade2019')"
   ]
  },
  {
   "cell_type": "markdown",
   "metadata": {},
   "source": [
    "# 2. Base de dados SQLite "
   ]
  },
  {
   "cell_type": "code",
   "execution_count": 3,
   "metadata": {},
   "outputs": [],
   "source": [
    "#inicia a engine do banco de dados\n",
    "engine = sqlalchemy.create_engine('sqlite:///enade.db', echo=False)"
   ]
  },
  {
   "cell_type": "code",
   "execution_count": 4,
   "metadata": {},
   "outputs": [
    {
     "name": "stderr",
     "output_type": "stream",
     "text": [
      "C:\\Users\\melis\\AppData\\Local\\Programs\\Python\\Python39\\lib\\site-packages\\IPython\\core\\interactiveshell.py:3441: DtypeWarning: Columns (29,31,32,44,45,46,47,54,55,56) have mixed types.Specify dtype option on import or set low_memory=False.\n",
      "  exec(code_obj, self.user_global_ns, self.user_ns)\n",
      "C:\\Users\\melis\\AppData\\Local\\Programs\\Python\\Python39\\lib\\site-packages\\IPython\\core\\interactiveshell.py:3441: DtypeWarning: Columns (48,49,50,51,52,53,57,58,59,84,95,96,97,98,99,100,101,102,103,104,105,106,107,108,109,110,111,112,113,114,115,116,117,118,119,120,121,122,123,124,125,126,127,128,129,130,131,132,133,134,135,136) have mixed types.Specify dtype option on import or set low_memory=False.\n",
      "  exec(code_obj, self.user_global_ns, self.user_ns)\n"
     ]
    }
   ],
   "source": [
    "# Carrega os dados nos dataframes\n",
    "df2017 = pd.read_csv(\"./dados/enade2017/3.DADOS/MICRODADOS_ENADE_2017.txt\", encoding='utf-8', sep = ';')\n",
    "df2018 = pd.read_csv(\"./dados/enade2018/2018/3.DADOS/microdados_enade_2018.txt\", encoding='utf-8', sep = ';' )\n",
    "df2019= pd.read_csv(\"./dados/enade2019/3.DADOS/microdados_enade_2019.txt\", encoding='utf-8', sep = ';')"
   ]
  },
  {
   "cell_type": "code",
   "execution_count": 24,
   "metadata": {},
   "outputs": [],
   "source": [
    "df = pd.concat([df2017, df2018, df2019])"
   ]
  },
  {
   "cell_type": "markdown",
   "metadata": {},
   "source": [
    "## 2.1. Adiciona os dados ao banco de dados"
   ]
  },
  {
   "cell_type": "code",
   "execution_count": 6,
   "metadata": {},
   "outputs": [],
   "source": [
    "df2017.to_sql(\"enade\", con=engine, if_exists=\"append\", index=False)"
   ]
  },
  {
   "cell_type": "code",
   "execution_count": 7,
   "metadata": {},
   "outputs": [],
   "source": [
    "df2018.to_sql(\"enade\", con=engine, if_exists=\"append\", index=False)"
   ]
  },
  {
   "cell_type": "code",
   "execution_count": 8,
   "metadata": {},
   "outputs": [],
   "source": [
    "df2019.to_sql(\"enade\", con=engine, if_exists=\"append\", index=False)"
   ]
  },
  {
   "cell_type": "markdown",
   "metadata": {},
   "source": [
    "## 2.2. Cria as tabelas relacionais no Banco de Dados de acordo com o Modelo de Estrela"
   ]
  },
  {
   "cell_type": "code",
   "execution_count": 9,
   "metadata": {},
   "outputs": [],
   "source": [
    "#tabela EXAME_ENADE\n",
    "with engine.connect() as con:\n",
    "    con.execute(\n",
    "     \"\"\"\n",
    "     create table EXAME_ENADE as \n",
    "     select NU_ANO, TP_PRES, NT_GER from enade\n",
    "     \"\"\")"
   ]
  },
  {
   "cell_type": "code",
   "execution_count": 10,
   "metadata": {},
   "outputs": [],
   "source": [
    "#tabela ALUNO\n",
    "with engine.connect() as con:\n",
    "    con.execute(\n",
    "     \"\"\"\n",
    "     create table ALUNO as \n",
    "     select NU_IDADE TP_SEXO, ANO_FIM_EM, TP_INSCRICAO_ADM, TP_INSCRICAO from enade\n",
    "     \"\"\")"
   ]
  },
  {
   "cell_type": "code",
   "execution_count": 11,
   "metadata": {},
   "outputs": [],
   "source": [
    "#tabela INSTITUICAO\n",
    "with engine.connect() as con:\n",
    "    con.execute(\n",
    "     \"\"\"\n",
    "     create table INSTITUICAO as \n",
    "     select CO_IES, CO_CATEGAD, CO_ORGACAD from enade\n",
    "     \"\"\")"
   ]
  },
  {
   "cell_type": "code",
   "execution_count": 12,
   "metadata": {},
   "outputs": [],
   "source": [
    "#tabela CURSO\n",
    "with engine.connect() as con:\n",
    "    con.execute(\n",
    "     \"\"\"\n",
    "     create table CURSO as \n",
    "     select  CO_GRUPO, CO_CURSO, CO_MODALIDADE, CO_MUNIC_CURSO, CO_UF_CURSO, CO_REGIAO_CURSO, ANO_IN_GRAD, CO_TURNO_GRADUACAO from enade\n",
    "     \"\"\")"
   ]
  },
  {
   "cell_type": "code",
   "execution_count": 14,
   "metadata": {},
   "outputs": [],
   "source": [
    "#tabela PROVA\n",
    "with engine.connect() as con:\n",
    "    con.execute(\n",
    "     \"\"\"\n",
    "     create table PROVA as \n",
    "     select TP_PR_GER, NT_FG from enade\n",
    "     \"\"\")"
   ]
  },
  {
   "cell_type": "code",
   "execution_count": 15,
   "metadata": {},
   "outputs": [],
   "source": [
    "#tabela DISCURSIVA\n",
    "with engine.connect() as con:\n",
    "    con.execute(\n",
    "     \"\"\"\n",
    "     create table DISCURSIVA as \n",
    "     select TP_PR_DI_FG, TP_PR_DI_CE, TP_SFG_D1, TP_SFG_D2, TP_SCE_D1, TP_SCE_D2, TP_SCE_D3, NT_DIS_FG, NT_FG_D1, \n",
    "     NT_FG_D1_PT, NT_FG_D1_CT, NT_FG_D2, NT_FG_D2_PT, NT_FG_D2_CT, NT_CE, NT_DIS_CE, NT_CE_D1, NT_CE_D2, NT_CE_D3 from enade\n",
    "     \"\"\")"
   ]
  },
  {
   "cell_type": "code",
   "execution_count": 17,
   "metadata": {},
   "outputs": [],
   "source": [
    "#tabela OBJETIVO\n",
    "with engine.connect() as con:\n",
    "    con.execute(\n",
    "     \"\"\"\n",
    "     create table OBJETIVA as \n",
    "     select NU_ITEM_OFG, NU_ITEM_OFG_Z, NU_ITEM_OFG_X, NU_ITEM_OFG_N, NU_ITEM_OCE, NU_ITEM_OCE_Z, NU_ITEM_OCE_X,\n",
    "     NU_ITEM_OCE_N, TP_PR_OB_FG, TP_PR_OB_CE, NT_OBJ_FG, NT_OBJ_CE from enade\n",
    "     \"\"\")"
   ]
  },
  {
   "cell_type": "code",
   "execution_count": 18,
   "metadata": {},
   "outputs": [],
   "source": [
    "#tabela GABARITO\n",
    "with engine.connect() as con:\n",
    "    con.execute(\n",
    "     \"\"\"\n",
    "     create table GABARITO as \n",
    "     select DS_VT_GAB_OFG_ORIG, DS_VT_GAB_OFG_FIN, DS_VT_GAB_OCE_ORIG, DS_VT_GAB_OCE_FIN, DS_VT_ESC_OFG, DS_VT_ACE_OFG,\n",
    "     DS_VT_ESC_OCE, DS_VT_ACE_OCE from enade\n",
    "     \"\"\")"
   ]
  },
  {
   "cell_type": "code",
   "execution_count": 19,
   "metadata": {},
   "outputs": [],
   "source": [
    "#tabela QUESTIONARIO_PROVA\n",
    "with engine.connect() as con:\n",
    "    con.execute(\n",
    "     \"\"\"\n",
    "     create table QUESTIONARIO_PROVA as \n",
    "     select CO_RS_I1, CO_RS_I2, CO_RS_I3, CO_RS_I4, CO_RS_I5, CO_RS_I6, CO_RS_I7, CO_RS_I8, CO_RS_I9 from enade\n",
    "     \"\"\")"
   ]
  },
  {
   "cell_type": "code",
   "execution_count": 20,
   "metadata": {},
   "outputs": [],
   "source": [
    "#tabela QUESTIONARIO_ALUNO\n",
    "with engine.connect() as con:\n",
    "    con.execute(\n",
    "     \"\"\"\n",
    "     create table QUESTIONARIO_ALUNO as \n",
    "     select QE_I01, QE_I02, QE_I03, QE_I04, QE_I05, QE_I06, QE_I07, QE_I08, QE_I09, QE_I10, QE_I11\n",
    "     QE_I12, QE_I13, QE_I14, QE_I15, QE_I16, QE_I17, QE_I18, QE_I19, QE_I20, QE_I21, QE_I22\n",
    "     QE_I23, QE_I24, QE_I25, QE_I26, QE_I27, QE_I28, QE_I29, QE_I30, QE_I31, QE_I32, QE_I32\n",
    "     QE_I33, QE_I34, QE_I35, QE_I36, QE_I37, QE_I38, QE_I39, QE_I40, QE_I41, QE_I42, QE_I43\n",
    "     QE_I44, QE_I45, QE_I46, QE_I47, QE_I48, QE_I49, QE_I50, QE_I51, QE_I52, QE_I53, QE_I54\n",
    "     QE_I55, QE_I56, QE_I57, QE_I58, QE_I59, QE_I60, QE_I61, QE_I62, QE_I63, QE_I64, QE_I65\n",
    "     QE_I66, QE_I67, QE_I68 from enade\n",
    "     \"\"\")"
   ]
  },
  {
   "cell_type": "code",
   "execution_count": 21,
   "metadata": {},
   "outputs": [],
   "source": [
    "#tabela QUESTIONARIO_LICENCIATURA\n",
    "with engine.connect() as con:\n",
    "    con.execute(\n",
    "     \"\"\"\n",
    "     create table QUESTIONARIO_LICENCIATURA as \n",
    "     select QE_I69, QE_I70, QE_I71, QE_I72, QE_I73, QE_I74, QE_I75, QE_I76, QE_I77\n",
    "     QE_I78, QE_I79, QE_I80, QE_I81 from enade\n",
    "     \"\"\")"
   ]
  },
  {
   "cell_type": "code",
   "execution_count": 23,
   "metadata": {},
   "outputs": [],
   "source": [
    "#drop da table não relacional\n",
    "with engine.connect() as con:\n",
    "    con.execute(\n",
    "     \"\"\"\n",
    "     drop table enade\n",
    "     \"\"\")"
   ]
  },
  {
   "cell_type": "markdown",
   "metadata": {},
   "source": [
    "# 3. Análise Exploratória"
   ]
  },
  {
   "cell_type": "markdown",
   "metadata": {},
   "source": [
    "## 3.1. IDADE E SEXO ASSOCIADA AO ENADE?"
   ]
  },
  {
   "cell_type": "code",
   "execution_count": null,
   "metadata": {},
   "outputs": [],
   "source": []
  },
  {
   "cell_type": "markdown",
   "metadata": {},
   "source": [
    "## 3.2. MÉDIA DAS NOTAS DO ENADE ASSOCIADAS AOS CURSOS?"
   ]
  },
  {
   "cell_type": "markdown",
   "metadata": {},
   "source": [
    "## 3.3. COR E RAÇA?"
   ]
  },
  {
   "cell_type": "markdown",
   "metadata": {},
   "source": [
    "## 3.4. RENDA DOS ALUNOS ENADE"
   ]
  },
  {
   "cell_type": "markdown",
   "metadata": {},
   "source": [
    "## 3.5. PERGUNTA 5"
   ]
  },
  {
   "cell_type": "markdown",
   "metadata": {},
   "source": [
    "# 4. Aprendizado de Máquina"
   ]
  }
 ],
 "metadata": {
  "interpreter": {
   "hash": "8f010bdefce7f593acf06661dc858c61a28e89619bbae0077df2c668aa62aa17"
  },
  "kernelspec": {
   "display_name": "Python 3.9.7 64-bit",
   "language": "python",
   "name": "python3"
  },
  "language_info": {
   "codemirror_mode": {
    "name": "ipython",
    "version": 3
   },
   "file_extension": ".py",
   "mimetype": "text/x-python",
   "name": "python",
   "nbconvert_exporter": "python",
   "pygments_lexer": "ipython3",
   "version": "3.9.7"
  },
  "orig_nbformat": 4
 },
 "nbformat": 4,
 "nbformat_minor": 2
}
