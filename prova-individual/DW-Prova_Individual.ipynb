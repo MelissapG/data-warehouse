{
 "cells": [
  {
   "cell_type": "code",
   "execution_count": 1,
   "metadata": {},
   "outputs": [],
   "source": [
    "import os, requests, zipfile, io\n",
    "import pandas as pd\n",
    "import sqlalchemy\n",
    "import sqlalchemy.types as type"
   ]
  },
  {
   "cell_type": "markdown",
   "metadata": {},
   "source": [
    "# 1. Script para Download dos dados do ENADE - 2017 a 2019"
   ]
  },
  {
   "cell_type": "code",
   "execution_count": 2,
   "metadata": {},
   "outputs": [],
   "source": [
    "# Modificando para o diretório atual\n",
    "os.chdir(os.path.abspath(''))"
   ]
  },
  {
   "cell_type": "code",
   "execution_count": 3,
   "metadata": {},
   "outputs": [],
   "source": [
    "## Importando os dados de 2017\n",
    "r = requests.get('https://download.inep.gov.br/microdados/Enade_Microdados/microdados_Enade_2017_portal_2018.10.09.zip')\n",
    "z = zipfile.ZipFile(io.BytesIO(r.content))\n",
    "z.extractall(os.path.abspath('')+'/dados/enade2017')"
   ]
  },
  {
   "cell_type": "code",
   "execution_count": 4,
   "metadata": {},
   "outputs": [],
   "source": [
    "## Importando os dados de 2018\n",
    "r = requests.get('https://download.inep.gov.br/microdados/Enade_Microdados/microdados_enade_2018.zip')\n",
    "z = zipfile.ZipFile(io.BytesIO(r.content))\n",
    "z.extractall(os.path.abspath('')+'/dados/enade2018')"
   ]
  },
  {
   "cell_type": "code",
   "execution_count": 5,
   "metadata": {},
   "outputs": [],
   "source": [
    "## Importando os dados de 2019\n",
    "r = requests.get('https://download.inep.gov.br/microdados/Enade_Microdados/microdados_enade_2019.zip')\n",
    "z = zipfile.ZipFile(io.BytesIO(r.content))\n",
    "z.extractall(os.path.abspath('')+'/dados/enade2019')"
   ]
  },
  {
   "cell_type": "markdown",
   "metadata": {},
   "source": [
    "# 2. Base de dados SQLite "
   ]
  },
  {
   "cell_type": "code",
   "execution_count": 7,
   "metadata": {},
   "outputs": [],
   "source": [
    "engine = sqlalchemy.create_engine('sqlite:///enade.db', echo=False)"
   ]
  },
  {
   "cell_type": "code",
   "execution_count": 33,
   "metadata": {},
   "outputs": [],
   "source": [
    "# Loads data into Pandas' DataFrame\n",
    "df = pd.read_csv(\"./dados/enade2017/3.DADOS/MICRODADOS_ENADE_2017.txt\")\n",
    "df.to_sql(\"\", con=engine, if_exists=\"replace\", dtype={\n",
    "    # \"valence\": type.Float(),\n",
    "    # \"year\": type.Integer(),\n",
    "    # \"acousticness\": type.Float(),\n",
    "    # \"artists\": type.String(),\n",
    "    # \"danceability\": type.Float(),\n",
    "    # \"duration_ms\": type.Integer(),\n",
    "    # \"energy\": type.Float(),\n",
    "    # \"explicit\": type.Integer(),\n",
    "    # \"id\": type.String(),\n",
    "    # \"instrumentalness\": type.Float(),\n",
    "    # \"key\": type.Integer(),\n",
    "    # \"liveness\": type.Float(),\n",
    "    # \"loudness\": type.Float(),\n",
    "    # \"mode\": type.Integer(),\n",
    "    # \"name\": type.String(),\n",
    "    # \"popularity\": type.Integer(),\n",
    "    # \"release_date\": type.Integer(),\n",
    "    # \"speechiness\": type.Float(),\n",
    "    # \"tempo\": type.Float()\n",
    "\n",
    "\n",
    "})"
   ]
  }
 ],
 "metadata": {
  "interpreter": {
   "hash": "8f010bdefce7f593acf06661dc858c61a28e89619bbae0077df2c668aa62aa17"
  },
  "kernelspec": {
   "display_name": "Python 3.9.7 64-bit",
   "language": "python",
   "name": "python3"
  },
  "language_info": {
   "codemirror_mode": {
    "name": "ipython",
    "version": 3
   },
   "file_extension": ".py",
   "mimetype": "text/x-python",
   "name": "python",
   "nbconvert_exporter": "python",
   "pygments_lexer": "ipython3",
   "version": "3.9.7"
  },
  "orig_nbformat": 4
 },
 "nbformat": 4,
 "nbformat_minor": 2
}
